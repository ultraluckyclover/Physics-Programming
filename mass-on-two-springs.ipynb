{
 "cells": [
  {
   "cell_type": "markdown",
   "id": "d2bc185c",
   "metadata": {},
   "source": [
    "# **Mass on two springs**\n",
    "\n",
    "Suppose there is a object with mass $m$ suspended between two springs, both with length $L_0$ and spring constant $k$. The springs are separated by a distance $2L_0$ The equation of motion of the system gives:\n",
    "\n",
    "tan $\\theta$ - sin $\\theta$  -$\\frac{mg}{2kL_0}$ = 0,\n",
    "\n",
    "which we may solve to find the equilibrium angle $\\theta$, the angle of the springs when the system is in equilibrium.\n",
    "\n",
    "This non-linear equation does not have an analytical solution, so we can utilize numerical root-finding techniques to find $\\theta$.\n",
    "\n",
    "For this system, we will use the following values:\n",
    "$m$ = 5 kg \\n \n",
    "$L_0$ = 0.3 m \\n \n",
    "$k$ = 1000 N/m \\n\n",
    "$g$ = 9.81 m/s^2 (acceleration due to gravity)"
   ]
  },
  {
   "cell_type": "markdown",
   "id": "66b62add",
   "metadata": {},
   "source": [
    "### Bisection method"
   ]
  },
  {
   "cell_type": "code",
   "execution_count": 2,
   "id": "5757d6ff",
   "metadata": {},
   "outputs": [
    {
     "name": "stdout",
     "output_type": "stream",
     "text": [
      "The equilibrium angle of the spring is 30.52755781612867 degrees.\n",
      "It took 15 iterations to reach an accuracy of 1/1000 using the Bisection method.\n"
     ]
    }
   ],
   "source": [
    "import numpy as np\n",
    "import math\n",
    "\n",
    "m = 5\n",
    "L0 = 0.3\n",
    "k = 1000\n",
    "g = 9.81\n",
    "\n",
    "def f(x):\n",
    "    return np.tan(x) - np.sin(x) - ((m*g)/(2*k*L0))\n",
    "target = 1e-4\n",
    "\n",
    "\n",
    "def binary(func,target,xa,xb):    \n",
    "    counter = 0\n",
    "    lst = []\n",
    "    \n",
    "    while(np.abs(xa-xb) > target):\n",
    "        x = (xa + xb)/2\n",
    "        counter += 1\n",
    "              \n",
    "        if (func(x)*func(xa) > 0):\n",
    "            xa = x\n",
    "        else:\n",
    "            xb = x \n",
    "    \n",
    "    lst.append(x)\n",
    "    lst.append(counter)\n",
    "            \n",
    "    return lst\n",
    "\n",
    "degree1 = binary(f,target,0.25,1)[0]*(180/math.pi)\n",
    "iteration1 = binary(f,target,0,math.pi)[1]\n",
    "\n",
    "print('The equilibrium angle of the spring is %s degrees.' % degree1)\n",
    "print('It took %d iterations to reach an accuracy of 1/1000 using the Bisection method.' % iteration1)"
   ]
  },
  {
   "cell_type": "markdown",
   "id": "4382bc52",
   "metadata": {},
   "source": [
    "### Newton method"
   ]
  },
  {
   "cell_type": "code",
   "execution_count": 9,
   "id": "51291268",
   "metadata": {},
   "outputs": [
    {
     "name": "stdout",
     "output_type": "stream",
     "text": [
      "Input starting guess: 0.25\n",
      "The equilibrium angle of the spring is 30.512097932778083 degrees.\n",
      "It took 49 iterations to reach an accuracy of 1/1000 using the Newton method.\n"
     ]
    }
   ],
   "source": [
    "def dfdx(x):\n",
    "    return 1/((math.tan(x))**(2)) - math.cos(x)\n",
    "\n",
    "\n",
    "def newton(func,dfuncdx,target):\n",
    "    r = float(input('Input starting guess: '))\n",
    "    rlast = math.pi\n",
    "    counter = 0\n",
    "    lst = []\n",
    "    \n",
    "    while (np.abs(r-rlast) > target):\n",
    "        counter += 1\n",
    "        rlast = r\n",
    "        r = rlast - (func(rlast))/(dfuncdx(rlast))\n",
    "    \n",
    "    lst.append(r)\n",
    "    lst.append(counter)\n",
    "    \n",
    "    return lst   \n",
    "\n",
    "degree2,iteration2 = newton(f,dfdx,target)\n",
    "\n",
    "degree2 *= (180/math.pi)\n",
    "\n",
    "print('The equilibrium angle of the spring is %s degrees.' % degree2)\n",
    "print('It took %d iterations to reach an accuracy of 1/1000 using the Newton method.' % iteration2)"
   ]
  },
  {
   "cell_type": "markdown",
   "id": "eb97f4f7",
   "metadata": {},
   "source": [
    "### False position method"
   ]
  },
  {
   "cell_type": "code",
   "execution_count": 7,
   "id": "491fb39c",
   "metadata": {},
   "outputs": [
    {
     "name": "stdout",
     "output_type": "stream",
     "text": [
      "The equilibrium angle of the spring is 30.53103647187648 degrees.\n",
      "It took 60 iterations to reach an accuracy of 1/1000 using the False Position method.\n"
     ]
    }
   ],
   "source": [
    "def falsePosition(func,target,xa,xb):\n",
    "\n",
    "    x,xOld,counter = xa , float(\"inf\") ,0\n",
    "    lst = []\n",
    "        \n",
    "    while np.abs(x - xOld) > target:\n",
    "        counter += 1\n",
    "        xOld = x\n",
    "        \n",
    "        slope = (func(xb) - func(xa)) / (xb-xa)\n",
    "        y = func(xa) - slope*xa\n",
    "        x = -y/slope\n",
    "        \n",
    "        if (x*func(xa)) > 0:\n",
    "            xa = x\n",
    "        else:\n",
    "            xb = x\n",
    "                        \n",
    "    lst.append(x)\n",
    "    lst.append(counter)\n",
    "    \n",
    "    return lst\n",
    "\n",
    "degree3,iteration3 = falsePosition(f,target,0.25,1)\n",
    "degree3 *= 180/(math.pi)\n",
    "\n",
    "print('The equilibrium angle of the spring is %s degrees.' % degree3)\n",
    "print('It took %d iterations to reach an accuracy of 1/1000 using the False Position method.' % iteration3)"
   ]
  },
  {
   "cell_type": "markdown",
   "id": "d59a5da8",
   "metadata": {},
   "source": [
    "### Secant method"
   ]
  },
  {
   "cell_type": "code",
   "execution_count": 3,
   "id": "b4931409",
   "metadata": {},
   "outputs": [
    {
     "name": "stdout",
     "output_type": "stream",
     "text": [
      "The equilibrium angle of the spring is 30.52869645432936 degrees.\n",
      "It took 8 iterations to reach an accuracy of 1/1000 using the False Position method.\n"
     ]
    }
   ],
   "source": [
    "def secant(func,target,xa,xb):\n",
    "    counter = 0\n",
    "    lst = []\n",
    "    \n",
    "    while np.abs(xa-xb) > target:\n",
    "        counter += 1\n",
    "        slope = (func(xb) - func(xa)) / (xb-xa)        \n",
    "        x = xb - (func(xb)/slope)\n",
    "        xa,xb = xb,x\n",
    "    \n",
    "    lst.append(x)\n",
    "    lst.append(counter)    \n",
    "    return lst\n",
    "\n",
    "degree4, iteration4 = secant(f,target,-1,0.25)\n",
    "degree4 *= 180/(math.pi)\n",
    "\n",
    "print('The equilibrium angle of the spring is %s degrees.' % degree4)\n",
    "print('It took %d iterations to reach an accuracy of 1/1000 using the False Position method.' % iteration4)"
   ]
  },
  {
   "cell_type": "code",
   "execution_count": null,
   "id": "b7b58951",
   "metadata": {},
   "outputs": [],
   "source": []
  }
 ],
 "metadata": {
  "kernelspec": {
   "display_name": "Python 3 (ipykernel)",
   "language": "python",
   "name": "python3"
  },
  "language_info": {
   "codemirror_mode": {
    "name": "ipython",
    "version": 3
   },
   "file_extension": ".py",
   "mimetype": "text/x-python",
   "name": "python",
   "nbconvert_exporter": "python",
   "pygments_lexer": "ipython3",
   "version": "3.9.13"
  }
 },
 "nbformat": 4,
 "nbformat_minor": 5
}
