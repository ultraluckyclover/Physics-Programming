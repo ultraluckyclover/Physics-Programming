{
 "cells": [
  {
   "cell_type": "markdown",
   "id": "3b8ce0cc",
   "metadata": {},
   "source": [
    "### Adaptive trapezoidal rule for the integral $ I = \\int_{0}^{1} sin^2\\sqrt{100x}dx $"
   ]
  },
  {
   "cell_type": "code",
   "execution_count": 40,
   "id": "f5b02feb",
   "metadata": {},
   "outputs": [
    {
     "name": "stdout",
     "output_type": "stream",
     "text": [
      "Number of slices:  10\n",
      "Error:  0.011848566547251749\n",
      "Integral:  0.4853451148938869\n",
      "Number of slices:  20\n",
      "Error:  0.0020781010981815356\n",
      "Integral:  0.47911081159934227\n",
      "Number of slices:  40\n",
      "Error:  0.00048565248810500394\n",
      "Integral:  0.47765385413502726\n",
      "Number of slices:  80\n",
      "Error:  0.00011949610433936719\n",
      "Integral:  0.47729536582200915\n",
      "Number of slices:  160\n",
      "Error:  2.975702610212109e-05\n",
      "Integral:  0.4772060947437028\n",
      "Number of slices:  320\n",
      "Error:  7.43198689419818e-06\n",
      "Integral:  0.4771837987830202\n",
      "Number of slices:  640\n",
      "Error:  1.857543037238803e-06\n",
      "Integral:  0.4771782261539085\n",
      "Number of slices:  1280\n",
      "Error:  4.643574141686516e-07\n",
      "Integral:  0.477176833081666\n"
     ]
    }
   ],
   "source": [
    "#! /usr/bin/env python3\n",
    "import math\n",
    "\n",
    "N = 5\n",
    "a = 0\n",
    "b = 1\n",
    "w = (b-a)/N\n",
    "\n",
    "def f(x):\n",
    "    return math.sin((math.sqrt(100)*x))**2\n",
    "\n",
    "s = 0.5*f(a) + 0.5*f(b)\n",
    "for i in range (1,N):\n",
    "    s+= f(a+i*w)   \n",
    "I = w*s\n",
    "\n",
    "epsilon = 1\n",
    "\n",
    "# Using a recursive algorithm to minimize error estimate by doubling\n",
    "# the number of slices of the trapezoidal method of integration\n",
    "\n",
    "while (epsilon > 10**(-6)):\n",
    "    newS = 0\n",
    "    N *= 2\n",
    "    w = (b-a)/N\n",
    "    for j in range(1,N):\n",
    "        if (j%2)==1:\n",
    "            newS += f(a+j*w)\n",
    "        else:\n",
    "            continue       \n",
    "    newI = ((0.5)*I)+ (newS*w)\n",
    "    epsilon = (1/3)*abs(I-newI)\n",
    "    I = newI   \n",
    "    print('Number of slices: ',N)\n",
    "    print('Error: ', epsilon)\n",
    "    print('Integral: ', newI)\n",
    "          "
   ]
  },
  {
   "cell_type": "markdown",
   "id": "da469118",
   "metadata": {},
   "source": [
    "### Adaptive Simpson's rule for the integral $ I = \\int_{0}^{1} sin^2\\sqrt{100x}dx $"
   ]
  },
  {
   "cell_type": "code",
   "execution_count": 51,
   "id": "365f0765",
   "metadata": {},
   "outputs": [
    {
     "name": "stdout",
     "output_type": "stream",
     "text": [
      "Number of slices:  10\n",
      "Error:  0.009072932880157206\n",
      "Integral:  0.4734965483466351\n",
      "Number of slices:  20\n",
      "Error:  0.00023574414363504158\n",
      "Integral:  0.47703271050116075\n",
      "Number of slices:  40\n",
      "Error:  9.032743050770472e-06\n",
      "Integral:  0.4771682016469223\n",
      "Number of slices:  80\n",
      "Error:  5.11204716483841e-07\n",
      "Integral:  0.47717586971766957\n"
     ]
    }
   ],
   "source": [
    "N = 5\n",
    "epsilon = 1.0\n",
    "\n",
    "\n",
    "def simpson(n):\n",
    "    S = (1/3)*(f(a)+f(b))\n",
    "    T = 0\n",
    "    w = (b-a)/N\n",
    "\n",
    "    for i in range(2,n-1):\n",
    "        if (i%2)==0:\n",
    "            S += (2/3)*f(a+i*w)\n",
    "        else:\n",
    "            continue\n",
    "    for j in range(1,n):\n",
    "        if (j%2)==1:\n",
    "            T += (2/3)*f(a+j*w)\n",
    "        else:\n",
    "            continue       \n",
    "    return (w * (S + (2*T)))\n",
    "\n",
    "# Recursive algorithm to minimize error for Simpson's rule\n",
    "\n",
    "while (epsilon > 10**(-6)):\n",
    "    I = simpson(N)\n",
    "    N *= 2\n",
    "    newI = simpson(N)\n",
    "    epsilon = (1/15)*abs(newI-I)\n",
    "    print('Number of slices: ',N)\n",
    "    print('Error: ', epsilon)\n",
    "    print('Integral: ', newI)\n",
    "    \n"
   ]
  },
  {
   "cell_type": "code",
   "execution_count": null,
   "id": "0e0112a9",
   "metadata": {},
   "outputs": [],
   "source": []
  }
 ],
 "metadata": {
  "kernelspec": {
   "display_name": "Python 3 (ipykernel)",
   "language": "python",
   "name": "python3"
  },
  "language_info": {
   "codemirror_mode": {
    "name": "ipython",
    "version": 3
   },
   "file_extension": ".py",
   "mimetype": "text/x-python",
   "name": "python",
   "nbconvert_exporter": "python",
   "pygments_lexer": "ipython3",
   "version": "3.9.13"
  }
 },
 "nbformat": 4,
 "nbformat_minor": 5
}
