{
 "cells": [
  {
   "cell_type": "markdown",
   "id": "d1e05821",
   "metadata": {},
   "source": [
    "### A satellite is to be launched into a circular orbit around the Earth so that it orbits the planet once every T seconds.\n",
    "\n",
    "I am writing a program that asks the user to enter a desired value of T and returns the corresponding altitude in meters."
   ]
  },
  {
   "cell_type": "code",
   "execution_count": 4,
   "id": "f35ffe47",
   "metadata": {},
   "outputs": [
    {
     "name": "stdout",
     "output_type": "stream",
     "text": [
      "Please enter a period in seconds: 30000\n",
      "\n",
      "The satellite must have an altitude of  20854269.843741678  meters above Earth's surface.\n",
      "\n",
      "Would you like to run this again? (y/n): y\n",
      "Please enter a period in seconds: 5400\n",
      "\n",
      "The satellite must have an altitude of  6643950.625372861  meters above Earth's surface.\n",
      "\n",
      "Would you like to run this again? (y/n): y\n",
      "Please enter a period in seconds: 2700\n",
      "\n",
      "The satellite must have an altitude of  4183069.1021891767  meters above Earth's surface.\n",
      "\n",
      "Would you like to run this again? (y/n): n\n"
     ]
    }
   ],
   "source": [
    "from math import pi #page 38 in textbook\n",
    "\n",
    "R = 6371       #radius of earth (km)\n",
    "G = 6.67e-11   #gravitational constant\n",
    "M = 5.97e24    #mass of earth (kg)\n",
    "loop = True\n",
    "\n",
    "while loop == True:\n",
    "\n",
    "    T = float(input(\"Please enter a period in seconds: \"))\n",
    "    h = ((G*M*T**2)/(4*(pi**2)))**(1/3)-R   #altitude above the earth's surface\n",
    "\n",
    "    print(\"\\nThe satellite must have an altitude of \",h,\" meters above Earth's surface.\")\n",
    "    \n",
    "    again = str(input(\"\\nWould you like to run this again? (y/n): \"))\n",
    "    \n",
    "    if again in ['Y', 'y']:\n",
    "        loop = True\n",
    "    else:\n",
    "        loop = False"
   ]
  },
  {
   "cell_type": "code",
   "execution_count": null,
   "id": "5c75feec",
   "metadata": {},
   "outputs": [],
   "source": []
  },
  {
   "cell_type": "code",
   "execution_count": null,
   "id": "85d80c32",
   "metadata": {},
   "outputs": [],
   "source": []
  }
 ],
 "metadata": {
  "kernelspec": {
   "display_name": "Python 3 (ipykernel)",
   "language": "python",
   "name": "python3"
  },
  "language_info": {
   "codemirror_mode": {
    "name": "ipython",
    "version": 3
   },
   "file_extension": ".py",
   "mimetype": "text/x-python",
   "name": "python",
   "nbconvert_exporter": "python",
   "pygments_lexer": "ipython3",
   "version": "3.9.13"
  }
 },
 "nbformat": 4,
 "nbformat_minor": 5
}
