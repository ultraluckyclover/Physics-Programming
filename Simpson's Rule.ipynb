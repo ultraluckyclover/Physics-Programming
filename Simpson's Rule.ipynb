{
 "cells": [
  {
   "cell_type": "markdown",
   "id": "e47ba899",
   "metadata": {},
   "source": [
    "## Numerical Integration\n",
    "\n",
    "In many areas in physics, we may have to integrate a function in order to find solutions or analyze a system. Sometimes, we can integrate a function analytically, but typically a function is too complicated and therefore we would have to approximate the integral using numerical integration. Simspon's rule is one of several numerical techniques we may use."
   ]
  },
  {
   "cell_type": "code",
   "execution_count": 62,
   "id": "c11833c7",
   "metadata": {
    "scrolled": true
   },
   "outputs": [
    {
     "name": "stdout",
     "output_type": "stream",
     "text": [
      "Using Simpson's Rule for N = 10  slices with interval a = 0.0 to b = 2.0  the numerical integral is equal to 4.400026666666668 .\n"
     ]
    }
   ],
   "source": [
    "#! /usr/bin/env python3\n",
    "import math\n",
    "\n",
    "N = 10      \n",
    "\n",
    "def f(x):\n",
    "    return x**4 - 2*x + 1\n",
    "\n",
    "def simpson(N):\n",
    "    add = 0\n",
    "    integral = 0\n",
    "    a = 0.0\n",
    "    b = 2.0\n",
    "    w = (b-a)/N\n",
    "    \n",
    "    add += f(a) + f(b)\n",
    "    for j in range(0,N):\n",
    "        add += 4*(f(a+((j+(1/2))*w)))\n",
    "\n",
    "    for i in range(1,N):\n",
    "        add += 2*(f(a+(i*w)))\n",
    "\n",
    "    integral += (w/6)*add    \n",
    "    return integral\n",
    "\n",
    "\n",
    "print('Using Simpson\\'s Rule for N =', N,' slices with interval a =',a, 'to b =',b,' the numerical integral is equal to', simpson(N), '.')\n",
    "              \n",
    "\n"
   ]
  },
  {
   "cell_type": "markdown",
   "id": "4d4108bf",
   "metadata": {},
   "source": [
    "### Fractional Error"
   ]
  },
  {
   "cell_type": "code",
   "execution_count": 66,
   "id": "5fb2eb28",
   "metadata": {},
   "outputs": [
    {
     "name": "stdout",
     "output_type": "stream",
     "text": [
      "The fractional error is 6.060606060847623e-06\n"
     ]
    }
   ],
   "source": [
    "frac = abs(4.4-simpson(N))/4.4\n",
    "\n",
    "print('The fractional error is', frac)"
   ]
  },
  {
   "cell_type": "code",
   "execution_count": 67,
   "id": "b135507e",
   "metadata": {},
   "outputs": [
    {
     "name": "stdout",
     "output_type": "stream",
     "text": [
      "Using 100 slices, the approximation is 4.400000002666666 with fractional error 6.060604543475537e-10\n",
      "Using 1000 slices, the approximation is 4.400000000000278 with fractional error 6.31817830377589e-14\n"
     ]
    }
   ],
   "source": [
    "print('Using 100 slices, the approximation is', simpson(100), 'with fractional error', abs(4.4-simpson(100))/4.4)\n",
    "print('Using 1000 slices, the approximation is', simpson(1000), 'with fractional error', abs(4.4-simpson(1000))/4.4)"
   ]
  },
  {
   "cell_type": "code",
   "execution_count": null,
   "id": "ac3beebf",
   "metadata": {},
   "outputs": [],
   "source": []
  }
 ],
 "metadata": {
  "kernelspec": {
   "display_name": "Python 3 (ipykernel)",
   "language": "python",
   "name": "python3"
  },
  "language_info": {
   "codemirror_mode": {
    "name": "ipython",
    "version": 3
   },
   "file_extension": ".py",
   "mimetype": "text/x-python",
   "name": "python",
   "nbconvert_exporter": "python",
   "pygments_lexer": "ipython3",
   "version": "3.9.13"
  }
 },
 "nbformat": 4,
 "nbformat_minor": 5
}
